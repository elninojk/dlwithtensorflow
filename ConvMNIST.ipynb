{
  "nbformat": 4,
  "nbformat_minor": 0,
  "metadata": {
    "colab": {
      "name": "ConvMNIST.ipynb",
      "provenance": [],
      "mount_file_id": "1lxLJyeaBdC1O0SOC6IiXl73T_QFEQiHB",
      "authorship_tag": "ABX9TyOejAL75XDo0mo6HuubuK7A",
      "include_colab_link": true
    },
    "kernelspec": {
      "name": "python3",
      "display_name": "Python 3"
    }
  },
  "cells": [
    {
      "cell_type": "markdown",
      "metadata": {
        "id": "view-in-github",
        "colab_type": "text"
      },
      "source": [
        "<a href=\"https://colab.research.google.com/github/elninojk/dlwithtensorflow/blob/master/ConvMNIST.ipynb\" target=\"_parent\"><img src=\"https://colab.research.google.com/assets/colab-badge.svg\" alt=\"Open In Colab\"/></a>"
      ]
    },
    {
      "cell_type": "code",
      "metadata": {
        "id": "UqOuIVP1thV3",
        "colab_type": "code",
        "colab": {}
      },
      "source": [
        ""
      ],
      "execution_count": 0,
      "outputs": []
    },
    {
      "cell_type": "markdown",
      "metadata": {
        "id": "18MZBTpauqBo",
        "colab_type": "text"
      },
      "source": [
        "**Exercise 3**\n",
        "\n",
        "\n",
        "In the videos you looked at how you would improve Fashion MNIST using Convolutions. For your exercise see if you can improve MNIST to 99.8% accuracy or more using only a single convolutional layer and a single MaxPooling 2D. You should stop training once the accuracy goes above this amount. It should happen in less than 20 epochs, so it's ok to hard code the number of epochs for training, but your training must end once it hits the above metric. If it doesn't, then you'll need to redesign your layers.\n",
        "I've started the code for you -- you need to finish it!\n",
        "When 99.8% accuracy has been hit, you should print out the string \"Reached 99.8% accuracy so cancelling training!\""
      ]
    },
    {
      "cell_type": "code",
      "metadata": {
        "id": "mfN7q2Jiux2_",
        "colab_type": "code",
        "colab": {}
      },
      "source": [
        "import tensorflow as tf\n",
        "from os import path, getcwd, chdir\n",
        "# config = tf.ConfigProto() \n",
        "# config.gpu_options.allow_growth = True \n",
        "# sess = tf.Session(config=config)\n"
      ],
      "execution_count": 0,
      "outputs": []
    },
    {
      "cell_type": "code",
      "metadata": {
        "id": "PMGap3ZSvDhg",
        "colab_type": "code",
        "outputId": "82d3d0af-be65-4576-fae2-e1865a0c0919",
        "colab": {
          "base_uri": "https://localhost:8080/",
          "height": 323
        }
      },
      "source": [
        "def train_mnist_conv():\n",
        "  # Please write your code only where you are indicated. # please do not remove model fitting inline comments.\n",
        "    # YOUR CODE STARTS HERE\n",
        "  class myCallback(tf.keras.callbacks.Callback): \n",
        "    def on_epoch_end(self, epoch, logs={}):\n",
        "      if(logs.get('accuracy')>0.998):\n",
        "        print(\"\\nReached 99.8% accuracy so cancelling training!\") \n",
        "        self.model.stop_training = True\n",
        "    # YOUR CODE ENDS HERE\n",
        "  callbacks = myCallback()\n",
        "  (training_images, training_labels), (test_images, test_labels) = tf.keras.datasets.mnist.load_data(path='/content/drive/My Drive/Colab Notebooks/mnist.npz')\n",
        "\n",
        "\n",
        "  training_images=training_images.reshape(60000, 28, 28, 1) \n",
        "  training_images=training_images / 255.0\n",
        "  test_images = test_images.reshape(10000, 28, 28, 1) \n",
        "  test_images=test_images/255.0\n",
        "\n",
        "  model = tf.keras.models.Sequential()\n",
        "  model.add(tf.keras.layers.Conv2D(32, (3,3), activation ='relu', input_shape =(28,28,1)))\n",
        "  model.add(tf.keras.layers.MaxPooling2D(2, 2))\n",
        "  model.add(tf.keras.layers.Flatten())\n",
        "  model.add(tf.keras.layers.Dense(128, activation='relu'))\n",
        "  model.add(tf.keras.layers.Dense(10, activation='softmax'))\n",
        "\n",
        "\n",
        "  model.compile(optimizer='adam', loss='sparse_categorical_crossentropy', metrics=['accuracy'])\n",
        "  history = model.fit(training_images, training_labels, epochs=10, callbacks=[callbacks])\n",
        "  return history.epoch, history.history['accuracy'][-1]\n",
        "\n",
        "training_images, training_labels = train_mnist_conv()\n",
        "\n",
        "\n"
      ],
      "execution_count": 0,
      "outputs": [
        {
          "output_type": "stream",
          "text": [
            "Epoch 1/10\n",
            "1875/1875 [==============================] - 33s 17ms/step - loss: 0.1409 - accuracy: 0.9583\n",
            "Epoch 2/10\n",
            "1875/1875 [==============================] - 33s 17ms/step - loss: 0.0495 - accuracy: 0.9845\n",
            "Epoch 3/10\n",
            "1875/1875 [==============================] - 33s 17ms/step - loss: 0.0305 - accuracy: 0.9906\n",
            "Epoch 4/10\n",
            "1875/1875 [==============================] - 32s 17ms/step - loss: 0.0195 - accuracy: 0.9938\n",
            "Epoch 5/10\n",
            "1875/1875 [==============================] - 32s 17ms/step - loss: 0.0140 - accuracy: 0.9953\n",
            "Epoch 6/10\n",
            "1875/1875 [==============================] - 32s 17ms/step - loss: 0.0094 - accuracy: 0.9972\n",
            "Epoch 7/10\n",
            "1875/1875 [==============================] - 32s 17ms/step - loss: 0.0077 - accuracy: 0.9975\n",
            "Epoch 8/10\n",
            "1873/1875 [============================>.] - ETA: 0s - loss: 0.0054 - accuracy: 0.9981\n",
            "Reached 99.8% accuracy so cancelling training!\n",
            "1875/1875 [==============================] - 32s 17ms/step - loss: 0.0054 - accuracy: 0.9981\n"
          ],
          "name": "stdout"
        }
      ]
    }
  ]
}